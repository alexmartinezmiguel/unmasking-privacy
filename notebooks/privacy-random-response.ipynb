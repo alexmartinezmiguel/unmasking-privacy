{
 "cells": [
  {
   "cell_type": "markdown",
   "metadata": {},
   "source": [
    "# About\n",
    "\n",
    "This notebook contains the sandbox for developing random response algorithms (obfuscation), i.e. for user-item interactions (i.e., user-items ratings reduced to interactions).  \n",
    "These correspond to algorithms 5-8 from the Polat and Batmaz framework.\n",
    "\n",
    "This is used only for testing and debugging and **shouldn't be used to generate obfuscated datasets**."
   ]
  },
  {
   "cell_type": "code",
   "execution_count": 1,
   "metadata": {},
   "outputs": [],
   "source": [
    "import pandas as pd\n",
    "import numpy as np\n",
    "import math\n",
    "from io import StringIO"
   ]
  },
  {
   "cell_type": "code",
   "execution_count": 2,
   "metadata": {},
   "outputs": [],
   "source": [
    "df_ratings = pd.read_csv(\"../data/ml-1m/ratings.dat\", sep=\"::\", header=None, engine=\"python\", usecols=[0,1,2])\n",
    "df_ratings.columns = ['user_id', 'movie_id', 'rating']"
   ]
  },
  {
   "cell_type": "code",
   "execution_count": 3,
   "metadata": {},
   "outputs": [
    {
     "data": {
      "text/plain": [
       "(6040, 3706)"
      ]
     },
     "execution_count": 3,
     "metadata": {},
     "output_type": "execute_result"
    }
   ],
   "source": [
    "n_users = df_ratings['user_id'].nunique()\n",
    "n_items = df_ratings['movie_id'].nunique()\n",
    "n_users, n_items"
   ]
  },
  {
   "cell_type": "code",
   "execution_count": 4,
   "metadata": {},
   "outputs": [],
   "source": [
    "# NO NEED TO EXECUTE IF YOU DON'T GENERATE SYNTHETIC FEATURES\n",
    "# generate synthetic binary data from binomial distribution - coin flip\n",
    "# n_features = 5\n",
    "# col_names = ['f_{}'.format(i) for i in range(n_features)]\n",
    "# response_col_names = ['fr_{}'.format(i) for i in range(n_features)]\n",
    "# df_ratings[col_names] = np.random.binomial(1, 0.5, (len(df_ratings), n_features))"
   ]
  },
  {
   "cell_type": "code",
   "execution_count": 4,
   "metadata": {},
   "outputs": [
    {
     "data": {
      "text/plain": [
       "(['interaction'], ['interaction_r'])"
      ]
     },
     "execution_count": 4,
     "metadata": {},
     "output_type": "execute_result"
    }
   ],
   "source": [
    "# Transform ratings to interactions: everything above 3 => 1, else => 0\n",
    "df_ratings['interaction'] = df_ratings['rating'] >= 3\n",
    "df_ratings['interaction'].replace({True:1, False:0}, inplace=True)\n",
    "col_names = ['interaction']\n",
    "response_col_names = [col+'_r' for col in col_names]\n",
    "n_features = len(response_col_names)\n",
    "col_names, response_col_names"
   ]
  },
  {
   "cell_type": "code",
   "execution_count": 5,
   "metadata": {},
   "outputs": [],
   "source": [
    "cols_export = ['user_id', 'movie_id', 'rating', 'interaction', 'interaction_r']"
   ]
  },
  {
   "cell_type": "code",
   "execution_count": 6,
   "metadata": {},
   "outputs": [],
   "source": [
    "grp_sizes = [3, 5, 10, 20, 30, 50, 70, 100]"
   ]
  },
  {
   "cell_type": "code",
   "execution_count": 7,
   "metadata": {},
   "outputs": [],
   "source": [
    "df_ratings[response_col_names] = df_ratings[col_names].copy()"
   ]
  },
  {
   "cell_type": "code",
   "execution_count": 8,
   "metadata": {},
   "outputs": [],
   "source": [
    "n_groups = 3\n",
    "theta_max = 1"
   ]
  },
  {
   "cell_type": "code",
   "execution_count": 9,
   "metadata": {},
   "outputs": [],
   "source": [
    "# group by user id\n",
    "grouped = df_ratings.groupby('user_id')"
   ]
  },
  {
   "cell_type": "code",
   "execution_count": 10,
   "metadata": {},
   "outputs": [],
   "source": [
    "df_ratings['group'] = grouped['user_id'].transform(lambda x: np.random.choice(n_groups, len(x)))"
   ]
  },
  {
   "cell_type": "code",
   "execution_count": 13,
   "metadata": {},
   "outputs": [
    {
     "data": {
      "text/html": [
       "<div>\n",
       "<style scoped>\n",
       "    .dataframe tbody tr th:only-of-type {\n",
       "        vertical-align: middle;\n",
       "    }\n",
       "\n",
       "    .dataframe tbody tr th {\n",
       "        vertical-align: top;\n",
       "    }\n",
       "\n",
       "    .dataframe thead th {\n",
       "        text-align: right;\n",
       "    }\n",
       "</style>\n",
       "<table border=\"1\" class=\"dataframe\">\n",
       "  <thead>\n",
       "    <tr style=\"text-align: right;\">\n",
       "      <th></th>\n",
       "      <th>user_id</th>\n",
       "      <th>movie_id</th>\n",
       "      <th>rating</th>\n",
       "      <th>interaction</th>\n",
       "      <th>interaction_r</th>\n",
       "      <th>group</th>\n",
       "    </tr>\n",
       "  </thead>\n",
       "  <tbody>\n",
       "    <tr>\n",
       "      <th>0</th>\n",
       "      <td>1</td>\n",
       "      <td>1193</td>\n",
       "      <td>5</td>\n",
       "      <td>1</td>\n",
       "      <td>1</td>\n",
       "      <td>2</td>\n",
       "    </tr>\n",
       "    <tr>\n",
       "      <th>1</th>\n",
       "      <td>1</td>\n",
       "      <td>661</td>\n",
       "      <td>3</td>\n",
       "      <td>1</td>\n",
       "      <td>1</td>\n",
       "      <td>0</td>\n",
       "    </tr>\n",
       "    <tr>\n",
       "      <th>2</th>\n",
       "      <td>1</td>\n",
       "      <td>914</td>\n",
       "      <td>3</td>\n",
       "      <td>1</td>\n",
       "      <td>1</td>\n",
       "      <td>1</td>\n",
       "    </tr>\n",
       "    <tr>\n",
       "      <th>3</th>\n",
       "      <td>1</td>\n",
       "      <td>3408</td>\n",
       "      <td>4</td>\n",
       "      <td>1</td>\n",
       "      <td>1</td>\n",
       "      <td>1</td>\n",
       "    </tr>\n",
       "    <tr>\n",
       "      <th>4</th>\n",
       "      <td>1</td>\n",
       "      <td>2355</td>\n",
       "      <td>5</td>\n",
       "      <td>1</td>\n",
       "      <td>1</td>\n",
       "      <td>2</td>\n",
       "    </tr>\n",
       "    <tr>\n",
       "      <th>...</th>\n",
       "      <td>...</td>\n",
       "      <td>...</td>\n",
       "      <td>...</td>\n",
       "      <td>...</td>\n",
       "      <td>...</td>\n",
       "      <td>...</td>\n",
       "    </tr>\n",
       "    <tr>\n",
       "      <th>1000204</th>\n",
       "      <td>6040</td>\n",
       "      <td>1091</td>\n",
       "      <td>1</td>\n",
       "      <td>0</td>\n",
       "      <td>0</td>\n",
       "      <td>1</td>\n",
       "    </tr>\n",
       "    <tr>\n",
       "      <th>1000205</th>\n",
       "      <td>6040</td>\n",
       "      <td>1094</td>\n",
       "      <td>5</td>\n",
       "      <td>1</td>\n",
       "      <td>1</td>\n",
       "      <td>1</td>\n",
       "    </tr>\n",
       "    <tr>\n",
       "      <th>1000206</th>\n",
       "      <td>6040</td>\n",
       "      <td>562</td>\n",
       "      <td>5</td>\n",
       "      <td>1</td>\n",
       "      <td>1</td>\n",
       "      <td>1</td>\n",
       "    </tr>\n",
       "    <tr>\n",
       "      <th>1000207</th>\n",
       "      <td>6040</td>\n",
       "      <td>1096</td>\n",
       "      <td>4</td>\n",
       "      <td>1</td>\n",
       "      <td>1</td>\n",
       "      <td>0</td>\n",
       "    </tr>\n",
       "    <tr>\n",
       "      <th>1000208</th>\n",
       "      <td>6040</td>\n",
       "      <td>1097</td>\n",
       "      <td>4</td>\n",
       "      <td>1</td>\n",
       "      <td>1</td>\n",
       "      <td>2</td>\n",
       "    </tr>\n",
       "  </tbody>\n",
       "</table>\n",
       "<p>1000209 rows × 6 columns</p>\n",
       "</div>"
      ],
      "text/plain": [
       "         user_id  movie_id  rating  interaction  interaction_r  group\n",
       "0              1      1193       5            1              1      2\n",
       "1              1       661       3            1              1      0\n",
       "2              1       914       3            1              1      1\n",
       "3              1      3408       4            1              1      1\n",
       "4              1      2355       5            1              1      2\n",
       "...          ...       ...     ...          ...            ...    ...\n",
       "1000204     6040      1091       1            0              0      1\n",
       "1000205     6040      1094       5            1              1      1\n",
       "1000206     6040       562       5            1              1      1\n",
       "1000207     6040      1096       4            1              1      0\n",
       "1000208     6040      1097       4            1              1      2\n",
       "\n",
       "[1000209 rows x 6 columns]"
      ]
     },
     "execution_count": 13,
     "metadata": {},
     "output_type": "execute_result"
    }
   ],
   "source": [
    "df_ratings"
   ]
  },
  {
   "cell_type": "markdown",
   "metadata": {},
   "source": [
    "# Fixed response\n",
    "## No masking\n",
    "Corresponds to **Framework 5**."
   ]
  },
  {
   "cell_type": "code",
   "execution_count": 17,
   "metadata": {},
   "outputs": [
    {
     "data": {
      "text/plain": [
       "['interaction_r']"
      ]
     },
     "execution_count": 17,
     "metadata": {},
     "output_type": "execute_result"
    }
   ],
   "source": [
    "response_col_names"
   ]
  },
  {
   "cell_type": "code",
   "execution_count": 19,
   "metadata": {},
   "outputs": [],
   "source": [
    "def response_fixed_no_masking(df: pd.DataFrame):\n",
    "    df = df.copy()\n",
    "    df['r'] = df.groupby(['user_id', 'group'])['group'].transform(lambda x: np.random.binomial(1, 0.5))\n",
    "    df.loc[df['r'] == 1, response_col_names] = 1 - df.loc[df['r'] == 1, response_col_names]\n",
    "    return df"
   ]
  },
  {
   "cell_type": "code",
   "execution_count": 20,
   "metadata": {},
   "outputs": [
    {
     "name": "stdout",
     "output_type": "stream",
     "text": [
      "   user_id  movie_id  rating  interaction  interaction_r  group  r\n",
      "0        1      1193       5            1              1      2  1\n",
      "1        1       661       3            1              1      1  0\n",
      "2        1       914       3            1              1      2  1\n",
      "3        1      3408       4            1              1      0  1\n",
      "4        1      2355       5            1              1      2  1\n"
     ]
    }
   ],
   "source": [
    "df_ratings = response_fixed_no_masking(df_ratings)"
   ]
  },
  {
   "cell_type": "code",
   "execution_count": 19,
   "metadata": {},
   "outputs": [],
   "source": [
    "df_ratings['r'] = df_ratings.groupby(['user_id', 'group'])['group'].transform(lambda x: np.random.binomial(1, theta_max/2))\n",
    "df_ratings.loc[df_ratings['r'] == 1, response_col_names] = 1 - df_ratings.loc[df_ratings['r'] == 1, response_col_names]"
   ]
  },
  {
   "cell_type": "code",
   "execution_count": 23,
   "metadata": {},
   "outputs": [],
   "source": [
    "df_ratings[cols_export].to_csv('../data/ml-1m-response/ratings_obf5_fixed_no_mask.csv', index=False)"
   ]
  },
  {
   "cell_type": "markdown",
   "metadata": {},
   "source": [
    "## With masking\n",
    "Corresponds to **Framework 7**"
   ]
  },
  {
   "cell_type": "code",
   "execution_count": 11,
   "metadata": {},
   "outputs": [],
   "source": [
    "df_ratings['r'] = df_ratings.groupby(['user_id', 'group'])['group'].transform(lambda x: np.random.binomial(1, theta_max/2))"
   ]
  },
  {
   "cell_type": "code",
   "execution_count": 12,
   "metadata": {},
   "outputs": [],
   "source": [
    "# choose a beta max based on its user-wise distribution\n",
    "beta_max = grouped.size().max()/n_items\n",
    "# and now generate a beta\n",
    "beta = np.random.uniform(0, beta_max)"
   ]
  },
  {
   "cell_type": "code",
   "execution_count": 35,
   "metadata": {},
   "outputs": [],
   "source": [
    "# initialise user-wise data frame for each unrated movie: conserve the beta, sigma, treatment\n",
    "df_users_unrated = grouped[['group', 'r']].agg('min')\n",
    "df_users_unrated['n_rated'] = grouped.size()\n",
    "df_users_unrated['n_rated'].fillna(0)\n",
    "df_users_unrated.reset_index(inplace=True)\n",
    "# for each user, radomly choose a random number of unrated movie ids\n",
    "all_items = set(range(n_items))\n",
    "df_users_unrated['unselected_set'] = grouped['movie_id'].agg(list).apply(lambda s: list(all_items.difference(set(s)))).reset_index()['movie_id']\n",
    "df_users_unrated['unselected_subset'] = df_users_unrated.apply(lambda x: np.random.choice(x['unselected_set'], int(beta*(n_items-x['n_rated'])), replace=False), axis=1)\n",
    "df_users_unrated.drop(columns=['unselected_set'], inplace=True)\n",
    "df_users_unrated.rename(columns={'unselected_subset':'movie_id'}, inplace=True)\n",
    "# explode the table for each user_id and unrated movie_id\n",
    "df_users_unrated = df_users_unrated.explode('movie_id', ignore_index=True)"
   ]
  },
  {
   "cell_type": "code",
   "execution_count": 37,
   "metadata": {},
   "outputs": [],
   "source": [
    "# generate random binary values\n",
    "df_users_unrated[col_names] = np.random.binomial(1, 0.5, (len(df_users_unrated), n_features))\n",
    "df_users_unrated[response_col_names] = df_ratings[col_names].copy()"
   ]
  },
  {
   "cell_type": "code",
   "execution_count": 38,
   "metadata": {},
   "outputs": [],
   "source": [
    "# # apply obfuscation to the original ratings\n",
    "# df_ratings.loc[df_ratings['r'] >= df_ratings['theta'], response_col_names] = 1 - df_ratings.loc[df_ratings['r'] >= df_ratings['theta'], response_col_names]\n",
    "\n",
    "df_ratings.loc[df_ratings['r'] == 1, response_col_names] = 1 - df_ratings.loc[df_ratings['r'] == 1, response_col_names]\n"
   ]
  },
  {
   "cell_type": "code",
   "execution_count": 39,
   "metadata": {},
   "outputs": [],
   "source": [
    "# # apply obfuscation to the fictive ratings\n",
    "# df_users_unrated.loc[df_users_unrated['r'] >= df_users_unrated['theta'], response_col_names] = 1 - df_users_unrated.loc[df_users_unrated['r'] >= df_users_unrated['theta'], response_col_names]\n",
    "\n",
    "df_users_unrated.loc[df_users_unrated['r'] == 1, response_col_names] = 1 - df_users_unrated.loc[df_users_unrated['r'] == 1, response_col_names]"
   ]
  },
  {
   "cell_type": "code",
   "execution_count": 58,
   "metadata": {},
   "outputs": [],
   "source": [
    "df_compare = pd.DataFrame()\n",
    "df_compare['n_synthetic'] = df_users_unrated.groupby('user_id').size()"
   ]
  },
  {
   "cell_type": "code",
   "execution_count": 59,
   "metadata": {},
   "outputs": [],
   "source": [
    "df_compare['n_rated'] = df_users_unrated.groupby('user_id').agg(min)['n_rated']"
   ]
  },
  {
   "cell_type": "code",
   "execution_count": 60,
   "metadata": {},
   "outputs": [
    {
     "data": {
      "text/html": [
       "<div>\n",
       "<style scoped>\n",
       "    .dataframe tbody tr th:only-of-type {\n",
       "        vertical-align: middle;\n",
       "    }\n",
       "\n",
       "    .dataframe tbody tr th {\n",
       "        vertical-align: top;\n",
       "    }\n",
       "\n",
       "    .dataframe thead th {\n",
       "        text-align: right;\n",
       "    }\n",
       "</style>\n",
       "<table border=\"1\" class=\"dataframe\">\n",
       "  <thead>\n",
       "    <tr style=\"text-align: right;\">\n",
       "      <th></th>\n",
       "      <th>n_synthetic</th>\n",
       "      <th>n_rated</th>\n",
       "    </tr>\n",
       "    <tr>\n",
       "      <th>user_id</th>\n",
       "      <th></th>\n",
       "      <th></th>\n",
       "    </tr>\n",
       "  </thead>\n",
       "  <tbody>\n",
       "    <tr>\n",
       "      <th>1</th>\n",
       "      <td>10</td>\n",
       "      <td>53</td>\n",
       "    </tr>\n",
       "    <tr>\n",
       "      <th>2</th>\n",
       "      <td>10</td>\n",
       "      <td>129</td>\n",
       "    </tr>\n",
       "    <tr>\n",
       "      <th>3</th>\n",
       "      <td>10</td>\n",
       "      <td>51</td>\n",
       "    </tr>\n",
       "    <tr>\n",
       "      <th>4</th>\n",
       "      <td>10</td>\n",
       "      <td>21</td>\n",
       "    </tr>\n",
       "    <tr>\n",
       "      <th>5</th>\n",
       "      <td>9</td>\n",
       "      <td>198</td>\n",
       "    </tr>\n",
       "    <tr>\n",
       "      <th>...</th>\n",
       "      <td>...</td>\n",
       "      <td>...</td>\n",
       "    </tr>\n",
       "    <tr>\n",
       "      <th>6036</th>\n",
       "      <td>8</td>\n",
       "      <td>888</td>\n",
       "    </tr>\n",
       "    <tr>\n",
       "      <th>6037</th>\n",
       "      <td>9</td>\n",
       "      <td>202</td>\n",
       "    </tr>\n",
       "    <tr>\n",
       "      <th>6038</th>\n",
       "      <td>10</td>\n",
       "      <td>20</td>\n",
       "    </tr>\n",
       "    <tr>\n",
       "      <th>6039</th>\n",
       "      <td>10</td>\n",
       "      <td>123</td>\n",
       "    </tr>\n",
       "    <tr>\n",
       "      <th>6040</th>\n",
       "      <td>9</td>\n",
       "      <td>341</td>\n",
       "    </tr>\n",
       "  </tbody>\n",
       "</table>\n",
       "<p>6040 rows × 2 columns</p>\n",
       "</div>"
      ],
      "text/plain": [
       "         n_synthetic  n_rated\n",
       "user_id                      \n",
       "1                 10       53\n",
       "2                 10      129\n",
       "3                 10       51\n",
       "4                 10       21\n",
       "5                  9      198\n",
       "...              ...      ...\n",
       "6036               8      888\n",
       "6037               9      202\n",
       "6038              10       20\n",
       "6039              10      123\n",
       "6040               9      341\n",
       "\n",
       "[6040 rows x 2 columns]"
      ]
     },
     "execution_count": 60,
     "metadata": {},
     "output_type": "execute_result"
    }
   ],
   "source": [
    "df_compare"
   ]
  },
  {
   "cell_type": "code",
   "execution_count": 19,
   "metadata": {},
   "outputs": [],
   "source": [
    "# add the original/synthetic flag\n",
    "df_ratings['is_original'] = True\n",
    "df_users_unrated['is_original'] = False\n",
    "cols_export.append('is_original')\n",
    "if 'rating' in cols_export:\n",
    "    cols_export.remove('rating')"
   ]
  },
  {
   "cell_type": "code",
   "execution_count": 20,
   "metadata": {},
   "outputs": [],
   "source": [
    "# concatenate the original and synthetic data with noise\n",
    "df_ratings_agg = pd.concat([df_ratings[cols_export], df_users_unrated[cols_export]])"
   ]
  },
  {
   "cell_type": "code",
   "execution_count": null,
   "metadata": {},
   "outputs": [],
   "source": []
  },
  {
   "cell_type": "code",
   "execution_count": null,
   "metadata": {},
   "outputs": [],
   "source": []
  },
  {
   "cell_type": "code",
   "execution_count": 21,
   "metadata": {},
   "outputs": [],
   "source": [
    "df_ratings_agg.to_csv('../data/ml-1m-response/ratings_obf7_fixed_with_mask.csv', index=False)"
   ]
  },
  {
   "cell_type": "markdown",
   "metadata": {},
   "source": [
    "# Variable response"
   ]
  },
  {
   "cell_type": "code",
   "execution_count": null,
   "metadata": {},
   "outputs": [],
   "source": [
    "def response_variable_no_masking(df: pd.DataFrame, response_col_names:list):\n",
    "    df = df.copy()\n",
    "    df['r'] = np.random.uniform(size=len(df))\n",
    "    df['theta'] = df.groupby(['user_id', 'group'])['group'].transform(lambda x: np.random.uniform())\n",
    "    df.loc[df['r'] >= df['theta'], response_col_names] = 1 - df.loc[df['r'] >= df['theta'], response_col_names]\n",
    "    return df"
   ]
  },
  {
   "cell_type": "code",
   "execution_count": 15,
   "metadata": {},
   "outputs": [],
   "source": [
    "# df_ratings['r'] = np.random.uniform(size=len(df_ratings))\n",
    "df_ratings['r'] = df_ratings.groupby(['user_id', 'group'])['group'].transform(lambda x: np.random.uniform())"
   ]
  },
  {
   "cell_type": "code",
   "execution_count": 20,
   "metadata": {},
   "outputs": [],
   "source": [
    "# generate theta for each group of each user - this is needed both for the masking and non-masking\n",
    "df_ratings['theta'] = df_ratings.groupby(['user_id', 'group'])['group'].transform(lambda x: np.random.uniform(0, theta_max))"
   ]
  },
  {
   "cell_type": "markdown",
   "metadata": {},
   "source": [
    "## No masking\n",
    "*This and the next section are mutually exclusive!*  \n",
    "Corresponds to **Framework 6**."
   ]
  },
  {
   "cell_type": "code",
   "execution_count": 14,
   "metadata": {},
   "outputs": [],
   "source": [
    "df_ratings.loc[df_ratings['r'] >= df_ratings['theta'], response_col_names] = 1 - df_ratings.loc[df_ratings['r'] >= df_ratings['theta'], response_col_names]"
   ]
  },
  {
   "cell_type": "code",
   "execution_count": 16,
   "metadata": {},
   "outputs": [],
   "source": [
    "df_ratings.to_csv('../data/ml-1m-response/ratings_obf6_variable_no_mask.csv', index=False)"
   ]
  },
  {
   "cell_type": "markdown",
   "metadata": {},
   "source": [
    "## With masking\n",
    "*This and the previous section are mutually exclusive!*  \n",
    "Corresponds to **Framework 8**."
   ]
  },
  {
   "cell_type": "code",
   "execution_count": 17,
   "metadata": {},
   "outputs": [],
   "source": [
    "# choose a beta max based on its user-wise distribution\n",
    "beta_max = grouped.size().max()/n_items\n",
    "# generate a beta for each user\n",
    "df_ratings['beta'] = grouped['user_id'].transform(lambda x: np.random.uniform(0, beta_max))"
   ]
  },
  {
   "cell_type": "code",
   "execution_count": 18,
   "metadata": {},
   "outputs": [],
   "source": [
    "# initialise user-wise data frame for each unrated movie: conserve the beta, sigma, treatment\n",
    "df_users_unrated = grouped[['group', 'beta', 'theta', 'r']].agg('min').reset_index()\n",
    "# for each user, radomly choose a random number of unrated movie ids\n",
    "all_items = set(range(n_items))\n",
    "df_users_unrated['unselected_set'] = grouped['movie_id'].agg(list).apply(lambda s: list(all_items.difference(set(s)))).reset_index()['movie_id']\n",
    "df_users_unrated['unselected_subset'] = df_users_unrated.apply(lambda x: np.random.choice(x['unselected_set'], int(x['beta']*(n_items-len(x['unselected_set']))), replace=False), axis=1)\n",
    "df_users_unrated.drop(columns=['unselected_set'], inplace=True)\n",
    "df_users_unrated.rename(columns={'unselected_subset':'movie_id'}, inplace=True)\n",
    "# explode the table for each user_id and unrated movie_id\n",
    "df_users_unrated = df_users_unrated.explode('movie_id', ignore_index=True)"
   ]
  },
  {
   "cell_type": "code",
   "execution_count": 19,
   "metadata": {},
   "outputs": [],
   "source": [
    "# generate random binary values\n",
    "df_users_unrated[col_names] = np.random.binomial(1, 0.5, (len(df_users_unrated), n_features))\n",
    "df_users_unrated[response_col_names] = df_ratings[col_names].copy()"
   ]
  },
  {
   "cell_type": "code",
   "execution_count": 20,
   "metadata": {},
   "outputs": [],
   "source": [
    "# apply obfuscation to the original ratings\n",
    "df_ratings.loc[df_ratings['r'] >= df_ratings['theta'], response_col_names] = 1 - df_ratings.loc[df_ratings['r'] >= df_ratings['theta'], response_col_names]"
   ]
  },
  {
   "cell_type": "code",
   "execution_count": 21,
   "metadata": {},
   "outputs": [],
   "source": [
    "# apply obfuscation to the fictive ratings\n",
    "df_users_unrated.loc[df_users_unrated['r'] >= df_users_unrated['theta'], response_col_names] = 1 - df_users_unrated.loc[df_users_unrated['r'] >= df_users_unrated['theta'], response_col_names]"
   ]
  },
  {
   "cell_type": "code",
   "execution_count": 29,
   "metadata": {},
   "outputs": [],
   "source": [
    "# add the original/synthetic flag\n",
    "df_ratings['is_original'] = True\n",
    "df_users_unrated['is_original'] = False\n",
    "cols_export.append('is_original')\n",
    "cols_export.remove('rating')"
   ]
  },
  {
   "cell_type": "code",
   "execution_count": 30,
   "metadata": {},
   "outputs": [],
   "source": [
    "# concatenate the original and synthetic data with noise\n",
    "df_ratings_agg = pd.concat([df_ratings[cols_export], df_users_unrated[cols_export]])"
   ]
  },
  {
   "cell_type": "code",
   "execution_count": 31,
   "metadata": {},
   "outputs": [],
   "source": [
    "df_ratings_agg.to_csv('../data/ml-1m-response/ratings_obf8_variable_with_mask.csv', index=False)"
   ]
  }
 ],
 "metadata": {
  "kernelspec": {
   "display_name": "Python 3",
   "language": "python",
   "name": "python3"
  },
  "language_info": {
   "codemirror_mode": {
    "name": "ipython",
    "version": 3
   },
   "file_extension": ".py",
   "mimetype": "text/x-python",
   "name": "python",
   "nbconvert_exporter": "python",
   "pygments_lexer": "ipython3",
   "version": "3.9.0"
  },
  "vscode": {
   "interpreter": {
    "hash": "40d3a090f54c6569ab1632332b64b2c03c39dcf918b08424e98f38b5ae0af88f"
   }
  }
 },
 "nbformat": 4,
 "nbformat_minor": 4
}
