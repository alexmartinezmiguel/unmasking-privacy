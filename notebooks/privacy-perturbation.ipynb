{
 "cells": [
  {
   "cell_type": "markdown",
   "metadata": {},
   "source": [
    "# About\n",
    "\n",
    "This notebook contains the sandbox for developing randomised perturbation techniques, i.e. for user-item explicit ratings.  \n",
    "These correspond to algorithms 1-4 from the Polat and Batmaz framework.\n",
    "\n",
    "This is used only for testing and debugging and **shouldn't be used to generate perturbed datasets**."
   ]
  },
  {
   "cell_type": "code",
   "execution_count": 1,
   "metadata": {},
   "outputs": [],
   "source": [
    "import pandas as pd\n",
    "import numpy as np\n",
    "import math\n",
    "from io import StringIO"
   ]
  },
  {
   "cell_type": "markdown",
   "metadata": {},
   "source": [
    "# Random Perturbation Technique (RPT)\n",
    "\n",
    "## Steps\n",
    "1. select $\\alpha$ (this should be sent by the server)\n",
    "2. for each user i, compute: mean vote, std, z-votes for those items that she has rated\n",
    "3. for each user i and item j\n",
    "    1. draw a random numbers from the interval $[-\\alpha, \\alpha] => r_{ij}$\n",
    "    2. add it to that user's item-wise z-score: $z_{ij}'=z_{ij}+r_{ij}$\n",
    "    \n",
    "## Selecting $\\alpha$\n",
    "* Fixed range:\n",
    "    1. choose the range $\\gamma$\n",
    "    2. choose the corresponding $\\alpha$ s.t. $[-\\alpha, \\alpha]$ covers $\\gamma$\n",
    "    3. uniformly draw from $[-\\alpha, \\alpha]$\n",
    "* Random range:\n",
    "    1. choose the range $\\gamma$\n",
    "    2. randomly draw $\\alpha$ from the range\n",
    "    3. uniformly draw from $[-\\alpha, \\alpha]$"
   ]
  },
  {
   "cell_type": "code",
   "execution_count": 2,
   "metadata": {},
   "outputs": [],
   "source": [
    "df_ratings = pd.read_csv(\"../data/ml-1m/ratings.dat\", sep=\"::\", header=None, engine=\"python\", usecols=[0,1,2])\n",
    "df_ratings.columns = ['user_id', 'movie_id', 'rating']"
   ]
  },
  {
   "cell_type": "code",
   "execution_count": 3,
   "metadata": {},
   "outputs": [
    {
     "data": {
      "text/plain": [
       "(6040, 3706)"
      ]
     },
     "execution_count": 3,
     "metadata": {},
     "output_type": "execute_result"
    }
   ],
   "source": [
    "n_users = df_ratings['user_id'].nunique()\n",
    "n_items = df_ratings['movie_id'].nunique()\n",
    "n_users, n_items"
   ]
  },
  {
   "cell_type": "code",
   "execution_count": 4,
   "metadata": {},
   "outputs": [
    {
     "data": {
      "text/html": [
       "<div>\n",
       "<style scoped>\n",
       "    .dataframe tbody tr th:only-of-type {\n",
       "        vertical-align: middle;\n",
       "    }\n",
       "\n",
       "    .dataframe tbody tr th {\n",
       "        vertical-align: top;\n",
       "    }\n",
       "\n",
       "    .dataframe thead th {\n",
       "        text-align: right;\n",
       "    }\n",
       "</style>\n",
       "<table border=\"1\" class=\"dataframe\">\n",
       "  <thead>\n",
       "    <tr style=\"text-align: right;\">\n",
       "      <th></th>\n",
       "      <th>user_id</th>\n",
       "      <th>movie_id</th>\n",
       "      <th>rating</th>\n",
       "    </tr>\n",
       "  </thead>\n",
       "  <tbody>\n",
       "    <tr>\n",
       "      <th>0</th>\n",
       "      <td>1</td>\n",
       "      <td>1193</td>\n",
       "      <td>5</td>\n",
       "    </tr>\n",
       "    <tr>\n",
       "      <th>1</th>\n",
       "      <td>1</td>\n",
       "      <td>661</td>\n",
       "      <td>3</td>\n",
       "    </tr>\n",
       "    <tr>\n",
       "      <th>2</th>\n",
       "      <td>1</td>\n",
       "      <td>914</td>\n",
       "      <td>3</td>\n",
       "    </tr>\n",
       "    <tr>\n",
       "      <th>3</th>\n",
       "      <td>1</td>\n",
       "      <td>3408</td>\n",
       "      <td>4</td>\n",
       "    </tr>\n",
       "    <tr>\n",
       "      <th>4</th>\n",
       "      <td>1</td>\n",
       "      <td>2355</td>\n",
       "      <td>5</td>\n",
       "    </tr>\n",
       "    <tr>\n",
       "      <th>...</th>\n",
       "      <td>...</td>\n",
       "      <td>...</td>\n",
       "      <td>...</td>\n",
       "    </tr>\n",
       "    <tr>\n",
       "      <th>1000204</th>\n",
       "      <td>6040</td>\n",
       "      <td>1091</td>\n",
       "      <td>1</td>\n",
       "    </tr>\n",
       "    <tr>\n",
       "      <th>1000205</th>\n",
       "      <td>6040</td>\n",
       "      <td>1094</td>\n",
       "      <td>5</td>\n",
       "    </tr>\n",
       "    <tr>\n",
       "      <th>1000206</th>\n",
       "      <td>6040</td>\n",
       "      <td>562</td>\n",
       "      <td>5</td>\n",
       "    </tr>\n",
       "    <tr>\n",
       "      <th>1000207</th>\n",
       "      <td>6040</td>\n",
       "      <td>1096</td>\n",
       "      <td>4</td>\n",
       "    </tr>\n",
       "    <tr>\n",
       "      <th>1000208</th>\n",
       "      <td>6040</td>\n",
       "      <td>1097</td>\n",
       "      <td>4</td>\n",
       "    </tr>\n",
       "  </tbody>\n",
       "</table>\n",
       "<p>1000209 rows × 3 columns</p>\n",
       "</div>"
      ],
      "text/plain": [
       "         user_id  movie_id  rating\n",
       "0              1      1193       5\n",
       "1              1       661       3\n",
       "2              1       914       3\n",
       "3              1      3408       4\n",
       "4              1      2355       5\n",
       "...          ...       ...     ...\n",
       "1000204     6040      1091       1\n",
       "1000205     6040      1094       5\n",
       "1000206     6040       562       5\n",
       "1000207     6040      1096       4\n",
       "1000208     6040      1097       4\n",
       "\n",
       "[1000209 rows x 3 columns]"
      ]
     },
     "execution_count": 4,
     "metadata": {},
     "output_type": "execute_result"
    }
   ],
   "source": [
    "df_ratings"
   ]
  },
  {
   "cell_type": "code",
   "execution_count": 4,
   "metadata": {},
   "outputs": [
    {
     "data": {
      "text/plain": [
       "1"
      ]
     },
     "execution_count": 4,
     "metadata": {},
     "output_type": "execute_result"
    }
   ],
   "source": [
    "# we are normalising all the ratings, so we can use sigma_max=1\n",
    "# if we wouldn't standardise, we could use sigma_max = df_ratings['rating'].max()\n",
    "is_standard = True\n",
    "sigma_max = 1 if is_standard else df_ratings['rating'].max()\n",
    "sigma_max"
   ]
  },
  {
   "cell_type": "code",
   "execution_count": 5,
   "metadata": {},
   "outputs": [],
   "source": [
    "df_ratings['z_rating'] = df_ratings.groupby('user_id')['rating'].transform(lambda x: (x - x.mean())/x.std())"
   ]
  },
  {
   "cell_type": "code",
   "execution_count": 6,
   "metadata": {},
   "outputs": [],
   "source": [
    "# in order to do reverse standardisation\n",
    "df_ratings['user_std'] = df_ratings.groupby('user_id')['rating'].transform(lambda x: x.std())\n",
    "df_ratings['user_mean'] = df_ratings.groupby('user_id')['rating'].transform(lambda x: x.mean())"
   ]
  },
  {
   "cell_type": "code",
   "execution_count": 7,
   "metadata": {},
   "outputs": [],
   "source": [
    "cols_export = ['user_id', 'movie_id', 'rating', 'z_rating_noise', 'rating_noise']"
   ]
  },
  {
   "cell_type": "markdown",
   "metadata": {},
   "source": [
    "# Fixed alpha, no masking"
   ]
  },
  {
   "cell_type": "code",
   "execution_count": 8,
   "metadata": {},
   "outputs": [],
   "source": [
    "# fixed-alpha\n",
    "alpha = np.sqrt(3) * sigma_max\n",
    "df_ratings['z_rating_noise'] = df_ratings['z_rating'] + np.random.uniform(-alpha, alpha, df_ratings.shape[0])"
   ]
  },
  {
   "cell_type": "code",
   "execution_count": 9,
   "metadata": {},
   "outputs": [],
   "source": [
    "# verify that the groupwise mean of z_rating_noise is close to 0\n",
    "df_ratings_agg = df_ratings.groupby(['user_id']).agg({'z_rating_noise': ['mean']}).reset_index(col_level=1)\n",
    "df_ratings_agg.columns = df_ratings_agg.columns.droplevel(0)"
   ]
  },
  {
   "cell_type": "code",
   "execution_count": 10,
   "metadata": {},
   "outputs": [],
   "source": [
    "df_ratings['rating_noise'] = df_ratings['z_rating_noise'] * df_ratings['user_std'] + df_ratings['user_mean']"
   ]
  },
  {
   "cell_type": "code",
   "execution_count": 13,
   "metadata": {},
   "outputs": [],
   "source": [
    "df_ratings[cols_export].to_csv('../data/ml-1m-obfuscation/ratings_obf1_fixed_alpha.csv', index=False)"
   ]
  },
  {
   "cell_type": "code",
   "execution_count": null,
   "metadata": {},
   "outputs": [],
   "source": [
    "# df_ratings['alpha'] = df_ratings.groupby('user_id').transform(alpha)"
   ]
  },
  {
   "cell_type": "code",
   "execution_count": 11,
   "metadata": {},
   "outputs": [],
   "source": [
    "df_small = df_ratings.sample(1000).copy()"
   ]
  },
  {
   "cell_type": "code",
   "execution_count": 12,
   "metadata": {},
   "outputs": [
    {
     "data": {
      "text/html": [
       "<div>\n",
       "<style scoped>\n",
       "    .dataframe tbody tr th:only-of-type {\n",
       "        vertical-align: middle;\n",
       "    }\n",
       "\n",
       "    .dataframe tbody tr th {\n",
       "        vertical-align: top;\n",
       "    }\n",
       "\n",
       "    .dataframe thead th {\n",
       "        text-align: right;\n",
       "    }\n",
       "</style>\n",
       "<table border=\"1\" class=\"dataframe\">\n",
       "  <thead>\n",
       "    <tr style=\"text-align: right;\">\n",
       "      <th></th>\n",
       "      <th>user_id</th>\n",
       "      <th>movie_id</th>\n",
       "      <th>rating</th>\n",
       "      <th>z_rating</th>\n",
       "      <th>user_std</th>\n",
       "      <th>user_mean</th>\n",
       "      <th>z_rating_noise</th>\n",
       "      <th>rating_noise</th>\n",
       "    </tr>\n",
       "  </thead>\n",
       "  <tbody>\n",
       "    <tr>\n",
       "      <th>191584</th>\n",
       "      <td>1181</td>\n",
       "      <td>2013</td>\n",
       "      <td>2</td>\n",
       "      <td>-0.909061</td>\n",
       "      <td>0.897531</td>\n",
       "      <td>2.815911</td>\n",
       "      <td>-0.944233</td>\n",
       "      <td>1.968432</td>\n",
       "    </tr>\n",
       "    <tr>\n",
       "      <th>891599</th>\n",
       "      <td>5387</td>\n",
       "      <td>2518</td>\n",
       "      <td>3</td>\n",
       "      <td>-0.515941</td>\n",
       "      <td>1.060577</td>\n",
       "      <td>3.547196</td>\n",
       "      <td>-1.161372</td>\n",
       "      <td>2.315471</td>\n",
       "    </tr>\n",
       "    <tr>\n",
       "      <th>671389</th>\n",
       "      <td>4033</td>\n",
       "      <td>2700</td>\n",
       "      <td>3</td>\n",
       "      <td>-0.757592</td>\n",
       "      <td>1.012909</td>\n",
       "      <td>3.767372</td>\n",
       "      <td>-0.984410</td>\n",
       "      <td>2.770254</td>\n",
       "    </tr>\n",
       "    <tr>\n",
       "      <th>3171</th>\n",
       "      <td>24</td>\n",
       "      <td>3448</td>\n",
       "      <td>5</td>\n",
       "      <td>1.269303</td>\n",
       "      <td>0.828384</td>\n",
       "      <td>3.948529</td>\n",
       "      <td>1.363415</td>\n",
       "      <td>5.077960</td>\n",
       "    </tr>\n",
       "    <tr>\n",
       "      <th>141401</th>\n",
       "      <td>911</td>\n",
       "      <td>991</td>\n",
       "      <td>4</td>\n",
       "      <td>0.164146</td>\n",
       "      <td>0.800681</td>\n",
       "      <td>3.868571</td>\n",
       "      <td>-0.324322</td>\n",
       "      <td>3.608893</td>\n",
       "    </tr>\n",
       "    <tr>\n",
       "      <th>...</th>\n",
       "      <td>...</td>\n",
       "      <td>...</td>\n",
       "      <td>...</td>\n",
       "      <td>...</td>\n",
       "      <td>...</td>\n",
       "      <td>...</td>\n",
       "      <td>...</td>\n",
       "      <td>...</td>\n",
       "    </tr>\n",
       "    <tr>\n",
       "      <th>233137</th>\n",
       "      <td>1418</td>\n",
       "      <td>2553</td>\n",
       "      <td>3</td>\n",
       "      <td>0.048585</td>\n",
       "      <td>1.007541</td>\n",
       "      <td>2.951049</td>\n",
       "      <td>-0.855722</td>\n",
       "      <td>2.088874</td>\n",
       "    </tr>\n",
       "    <tr>\n",
       "      <th>388795</th>\n",
       "      <td>2279</td>\n",
       "      <td>592</td>\n",
       "      <td>5</td>\n",
       "      <td>1.250489</td>\n",
       "      <td>1.089098</td>\n",
       "      <td>3.638095</td>\n",
       "      <td>1.059553</td>\n",
       "      <td>4.792053</td>\n",
       "    </tr>\n",
       "    <tr>\n",
       "      <th>895621</th>\n",
       "      <td>5412</td>\n",
       "      <td>1097</td>\n",
       "      <td>3</td>\n",
       "      <td>-0.700245</td>\n",
       "      <td>1.227731</td>\n",
       "      <td>3.859712</td>\n",
       "      <td>0.673679</td>\n",
       "      <td>4.686809</td>\n",
       "    </tr>\n",
       "    <tr>\n",
       "      <th>526026</th>\n",
       "      <td>3250</td>\n",
       "      <td>2599</td>\n",
       "      <td>3</td>\n",
       "      <td>-0.223026</td>\n",
       "      <td>1.084787</td>\n",
       "      <td>3.241935</td>\n",
       "      <td>-1.053485</td>\n",
       "      <td>2.099128</td>\n",
       "    </tr>\n",
       "    <tr>\n",
       "      <th>799534</th>\n",
       "      <td>4790</td>\n",
       "      <td>1093</td>\n",
       "      <td>3</td>\n",
       "      <td>-0.437336</td>\n",
       "      <td>0.901321</td>\n",
       "      <td>3.394180</td>\n",
       "      <td>-1.905728</td>\n",
       "      <td>1.676507</td>\n",
       "    </tr>\n",
       "  </tbody>\n",
       "</table>\n",
       "<p>1000 rows × 8 columns</p>\n",
       "</div>"
      ],
      "text/plain": [
       "        user_id  movie_id  rating  z_rating  user_std  user_mean  \\\n",
       "191584     1181      2013       2 -0.909061  0.897531   2.815911   \n",
       "891599     5387      2518       3 -0.515941  1.060577   3.547196   \n",
       "671389     4033      2700       3 -0.757592  1.012909   3.767372   \n",
       "3171         24      3448       5  1.269303  0.828384   3.948529   \n",
       "141401      911       991       4  0.164146  0.800681   3.868571   \n",
       "...         ...       ...     ...       ...       ...        ...   \n",
       "233137     1418      2553       3  0.048585  1.007541   2.951049   \n",
       "388795     2279       592       5  1.250489  1.089098   3.638095   \n",
       "895621     5412      1097       3 -0.700245  1.227731   3.859712   \n",
       "526026     3250      2599       3 -0.223026  1.084787   3.241935   \n",
       "799534     4790      1093       3 -0.437336  0.901321   3.394180   \n",
       "\n",
       "        z_rating_noise  rating_noise  \n",
       "191584       -0.944233      1.968432  \n",
       "891599       -1.161372      2.315471  \n",
       "671389       -0.984410      2.770254  \n",
       "3171          1.363415      5.077960  \n",
       "141401       -0.324322      3.608893  \n",
       "...                ...           ...  \n",
       "233137       -0.855722      2.088874  \n",
       "388795        1.059553      4.792053  \n",
       "895621        0.673679      4.686809  \n",
       "526026       -1.053485      2.099128  \n",
       "799534       -1.905728      1.676507  \n",
       "\n",
       "[1000 rows x 8 columns]"
      ]
     },
     "execution_count": 12,
     "metadata": {},
     "output_type": "execute_result"
    }
   ],
   "source": [
    "df_small"
   ]
  },
  {
   "cell_type": "markdown",
   "metadata": {},
   "source": [
    "# Random alpha, no masking"
   ]
  },
  {
   "cell_type": "code",
   "execution_count": null,
   "metadata": {},
   "outputs": [],
   "source": [
    "# group by user id\n",
    "grouped = df_ratings.groupby('user_id')"
   ]
  },
  {
   "cell_type": "code",
   "execution_count": 32,
   "metadata": {},
   "outputs": [],
   "source": [
    "# random alpha\n",
    "#df_ratings['alpha'] = df_ratings.groupby('user_id')['user_id'].transform(lambda x: np.random.uniform(0, beta))\n",
    "#df_ratings['z_rating_noise'] = df_ratings['z_rating'] + np.random.uniform(-df_ratings['alpha'], df_ratings['alpha'])"
   ]
  },
  {
   "cell_type": "code",
   "execution_count": 15,
   "metadata": {},
   "outputs": [],
   "source": [
    "# randomly choose a randomisation treatment for each user: coin flip between Gaussian and uniform\n",
    "df_ratings['treatment'] = grouped['user_id'].transform(lambda x: np.random.binomial(1, 0.5))\n",
    "# randomly choose a sigma for each user\n",
    "df_ratings['sigma'] = grouped['user_id'].transform(lambda x: np.random.uniform(0, sigma_max))"
   ]
  },
  {
   "cell_type": "code",
   "execution_count": 22,
   "metadata": {},
   "outputs": [],
   "source": [
    "# generate noise for the samples that receive the uniform random treatment\n",
    "df_ratings.loc[df_ratings['treatment'] == 0, 'noise'] = np.random.uniform(-np.sqrt(3*df_ratings[df_ratings['treatment'] == 0]['sigma']), np.sqrt(3*df_ratings[df_ratings['treatment'] == 0]['sigma']))"
   ]
  },
  {
   "cell_type": "code",
   "execution_count": 23,
   "metadata": {},
   "outputs": [],
   "source": [
    "# generate noise for the samples that receive the Gaussian random treatment\n",
    "df_ratings.loc[df_ratings['treatment'] == 1, 'noise'] = np.random.normal(0, df_ratings[df_ratings['treatment'] == 1]['sigma'])"
   ]
  },
  {
   "cell_type": "code",
   "execution_count": 24,
   "metadata": {},
   "outputs": [],
   "source": [
    "# add the noise\n",
    "df_ratings['z_rating_noise'] = df_ratings['z_rating'] + df_ratings['noise']"
   ]
  },
  {
   "cell_type": "code",
   "execution_count": 25,
   "metadata": {},
   "outputs": [
    {
     "data": {
      "text/plain": [
       "6040"
      ]
     },
     "execution_count": 25,
     "metadata": {},
     "output_type": "execute_result"
    }
   ],
   "source": [
    "# check that it generates one alpha per user (i.e. groupwise)\n",
    "df_ratings['sigma'].nunique()"
   ]
  },
  {
   "cell_type": "code",
   "execution_count": 26,
   "metadata": {},
   "outputs": [
    {
     "data": {
      "text/plain": [
       "1000209"
      ]
     },
     "execution_count": 26,
     "metadata": {},
     "output_type": "execute_result"
    }
   ],
   "source": [
    "# check that the z_rating_noise are unique (or almost unique, in any case not per user)\n",
    "df_ratings['z_rating_noise'].nunique()"
   ]
  },
  {
   "cell_type": "code",
   "execution_count": 27,
   "metadata": {},
   "outputs": [
    {
     "data": {
      "text/plain": [
       "count    6040.000000\n",
       "mean       -0.000737\n",
       "std         0.079570\n",
       "min        -0.470342\n",
       "25%        -0.032229\n",
       "50%        -0.000621\n",
       "75%         0.032356\n",
       "max         0.765541\n",
       "Name: z_rating_noise, dtype: float64"
      ]
     },
     "execution_count": 27,
     "metadata": {},
     "output_type": "execute_result"
    }
   ],
   "source": [
    "# check that the mean of the scrambled distribution for each user stays close to 0\n",
    "df_ratings.groupby('user_id')['z_rating_noise'].mean().describe()"
   ]
  },
  {
   "cell_type": "code",
   "execution_count": 22,
   "metadata": {},
   "outputs": [],
   "source": [
    "df_ratings['rating_noise'] = df_ratings['z_rating_noise'] * df_ratings['user_std'] + df_ratings['user_mean']"
   ]
  },
  {
   "cell_type": "code",
   "execution_count": 23,
   "metadata": {},
   "outputs": [
    {
     "data": {
      "text/html": [
       "<div>\n",
       "<style scoped>\n",
       "    .dataframe tbody tr th:only-of-type {\n",
       "        vertical-align: middle;\n",
       "    }\n",
       "\n",
       "    .dataframe tbody tr th {\n",
       "        vertical-align: top;\n",
       "    }\n",
       "\n",
       "    .dataframe thead th {\n",
       "        text-align: right;\n",
       "    }\n",
       "</style>\n",
       "<table border=\"1\" class=\"dataframe\">\n",
       "  <thead>\n",
       "    <tr style=\"text-align: right;\">\n",
       "      <th></th>\n",
       "      <th>rating</th>\n",
       "      <th>rating_noise</th>\n",
       "    </tr>\n",
       "  </thead>\n",
       "  <tbody>\n",
       "    <tr>\n",
       "      <th>count</th>\n",
       "      <td>6040.000000</td>\n",
       "      <td>6040.000000</td>\n",
       "    </tr>\n",
       "    <tr>\n",
       "      <th>mean</th>\n",
       "      <td>3.702705</td>\n",
       "      <td>3.701852</td>\n",
       "    </tr>\n",
       "    <tr>\n",
       "      <th>std</th>\n",
       "      <td>0.429622</td>\n",
       "      <td>0.437718</td>\n",
       "    </tr>\n",
       "    <tr>\n",
       "      <th>min</th>\n",
       "      <td>1.015385</td>\n",
       "      <td>1.012373</td>\n",
       "    </tr>\n",
       "    <tr>\n",
       "      <th>25%</th>\n",
       "      <td>3.444444</td>\n",
       "      <td>3.439453</td>\n",
       "    </tr>\n",
       "    <tr>\n",
       "      <th>50%</th>\n",
       "      <td>3.735294</td>\n",
       "      <td>3.735794</td>\n",
       "    </tr>\n",
       "    <tr>\n",
       "      <th>75%</th>\n",
       "      <td>4.000000</td>\n",
       "      <td>4.000616</td>\n",
       "    </tr>\n",
       "    <tr>\n",
       "      <th>max</th>\n",
       "      <td>4.962963</td>\n",
       "      <td>4.961408</td>\n",
       "    </tr>\n",
       "  </tbody>\n",
       "</table>\n",
       "</div>"
      ],
      "text/plain": [
       "            rating  rating_noise\n",
       "count  6040.000000   6040.000000\n",
       "mean      3.702705      3.701852\n",
       "std       0.429622      0.437718\n",
       "min       1.015385      1.012373\n",
       "25%       3.444444      3.439453\n",
       "50%       3.735294      3.735794\n",
       "75%       4.000000      4.000616\n",
       "max       4.962963      4.961408"
      ]
     },
     "execution_count": 23,
     "metadata": {},
     "output_type": "execute_result"
    }
   ],
   "source": [
    "df_ratings.groupby('user_id')[['rating', 'rating_noise']].mean().describe()"
   ]
  },
  {
   "cell_type": "code",
   "execution_count": 25,
   "metadata": {},
   "outputs": [
    {
     "data": {
      "text/html": [
       "<div>\n",
       "<style scoped>\n",
       "    .dataframe tbody tr th:only-of-type {\n",
       "        vertical-align: middle;\n",
       "    }\n",
       "\n",
       "    .dataframe tbody tr th {\n",
       "        vertical-align: top;\n",
       "    }\n",
       "\n",
       "    .dataframe thead th {\n",
       "        text-align: right;\n",
       "    }\n",
       "</style>\n",
       "<table border=\"1\" class=\"dataframe\">\n",
       "  <thead>\n",
       "    <tr style=\"text-align: right;\">\n",
       "      <th></th>\n",
       "      <th>user_id</th>\n",
       "      <th>movie_id</th>\n",
       "      <th>rating</th>\n",
       "      <th>z_rating</th>\n",
       "      <th>user_std</th>\n",
       "      <th>user_mean</th>\n",
       "      <th>z_rating_noise</th>\n",
       "      <th>rating_noise</th>\n",
       "      <th>treatment</th>\n",
       "      <th>sigma</th>\n",
       "      <th>noise</th>\n",
       "    </tr>\n",
       "  </thead>\n",
       "  <tbody>\n",
       "    <tr>\n",
       "      <th>0</th>\n",
       "      <td>1</td>\n",
       "      <td>1193</td>\n",
       "      <td>5</td>\n",
       "      <td>1.191425</td>\n",
       "      <td>0.680967</td>\n",
       "      <td>4.188679</td>\n",
       "      <td>1.105785</td>\n",
       "      <td>4.941682</td>\n",
       "      <td>1</td>\n",
       "      <td>0.312498</td>\n",
       "      <td>-0.085640</td>\n",
       "    </tr>\n",
       "    <tr>\n",
       "      <th>1</th>\n",
       "      <td>1</td>\n",
       "      <td>661</td>\n",
       "      <td>3</td>\n",
       "      <td>-1.745576</td>\n",
       "      <td>0.680967</td>\n",
       "      <td>4.188679</td>\n",
       "      <td>-1.853954</td>\n",
       "      <td>2.926199</td>\n",
       "      <td>1</td>\n",
       "      <td>0.312498</td>\n",
       "      <td>-0.108377</td>\n",
       "    </tr>\n",
       "    <tr>\n",
       "      <th>2</th>\n",
       "      <td>1</td>\n",
       "      <td>914</td>\n",
       "      <td>3</td>\n",
       "      <td>-1.745576</td>\n",
       "      <td>0.680967</td>\n",
       "      <td>4.188679</td>\n",
       "      <td>-1.715603</td>\n",
       "      <td>3.020411</td>\n",
       "      <td>1</td>\n",
       "      <td>0.312498</td>\n",
       "      <td>0.029973</td>\n",
       "    </tr>\n",
       "    <tr>\n",
       "      <th>3</th>\n",
       "      <td>1</td>\n",
       "      <td>3408</td>\n",
       "      <td>4</td>\n",
       "      <td>-0.277076</td>\n",
       "      <td>0.680967</td>\n",
       "      <td>4.188679</td>\n",
       "      <td>-0.852857</td>\n",
       "      <td>3.607912</td>\n",
       "      <td>1</td>\n",
       "      <td>0.312498</td>\n",
       "      <td>-0.575781</td>\n",
       "    </tr>\n",
       "    <tr>\n",
       "      <th>4</th>\n",
       "      <td>1</td>\n",
       "      <td>2355</td>\n",
       "      <td>5</td>\n",
       "      <td>1.191425</td>\n",
       "      <td>0.680967</td>\n",
       "      <td>4.188679</td>\n",
       "      <td>1.187340</td>\n",
       "      <td>4.997218</td>\n",
       "      <td>1</td>\n",
       "      <td>0.312498</td>\n",
       "      <td>-0.004085</td>\n",
       "    </tr>\n",
       "    <tr>\n",
       "      <th>...</th>\n",
       "      <td>...</td>\n",
       "      <td>...</td>\n",
       "      <td>...</td>\n",
       "      <td>...</td>\n",
       "      <td>...</td>\n",
       "      <td>...</td>\n",
       "      <td>...</td>\n",
       "      <td>...</td>\n",
       "      <td>...</td>\n",
       "      <td>...</td>\n",
       "      <td>...</td>\n",
       "    </tr>\n",
       "    <tr>\n",
       "      <th>1000204</th>\n",
       "      <td>6040</td>\n",
       "      <td>1091</td>\n",
       "      <td>1</td>\n",
       "      <td>-2.185022</td>\n",
       "      <td>1.179719</td>\n",
       "      <td>3.577713</td>\n",
       "      <td>-1.711541</td>\n",
       "      <td>1.558575</td>\n",
       "      <td>0</td>\n",
       "      <td>0.897242</td>\n",
       "      <td>0.473481</td>\n",
       "    </tr>\n",
       "    <tr>\n",
       "      <th>1000205</th>\n",
       "      <td>6040</td>\n",
       "      <td>1094</td>\n",
       "      <td>5</td>\n",
       "      <td>1.205615</td>\n",
       "      <td>1.179719</td>\n",
       "      <td>3.577713</td>\n",
       "      <td>0.377127</td>\n",
       "      <td>4.022616</td>\n",
       "      <td>0</td>\n",
       "      <td>0.897242</td>\n",
       "      <td>-0.828488</td>\n",
       "    </tr>\n",
       "    <tr>\n",
       "      <th>1000206</th>\n",
       "      <td>6040</td>\n",
       "      <td>562</td>\n",
       "      <td>5</td>\n",
       "      <td>1.205615</td>\n",
       "      <td>1.179719</td>\n",
       "      <td>3.577713</td>\n",
       "      <td>0.564847</td>\n",
       "      <td>4.244073</td>\n",
       "      <td>0</td>\n",
       "      <td>0.897242</td>\n",
       "      <td>-0.640769</td>\n",
       "    </tr>\n",
       "    <tr>\n",
       "      <th>1000207</th>\n",
       "      <td>6040</td>\n",
       "      <td>1096</td>\n",
       "      <td>4</td>\n",
       "      <td>0.357956</td>\n",
       "      <td>1.179719</td>\n",
       "      <td>3.577713</td>\n",
       "      <td>0.330450</td>\n",
       "      <td>3.967551</td>\n",
       "      <td>0</td>\n",
       "      <td>0.897242</td>\n",
       "      <td>-0.027506</td>\n",
       "    </tr>\n",
       "    <tr>\n",
       "      <th>1000208</th>\n",
       "      <td>6040</td>\n",
       "      <td>1097</td>\n",
       "      <td>4</td>\n",
       "      <td>0.357956</td>\n",
       "      <td>1.179719</td>\n",
       "      <td>3.577713</td>\n",
       "      <td>-0.908921</td>\n",
       "      <td>2.505442</td>\n",
       "      <td>0</td>\n",
       "      <td>0.897242</td>\n",
       "      <td>-1.266876</td>\n",
       "    </tr>\n",
       "  </tbody>\n",
       "</table>\n",
       "<p>1000209 rows × 11 columns</p>\n",
       "</div>"
      ],
      "text/plain": [
       "         user_id  movie_id  rating  z_rating  user_std  user_mean  \\\n",
       "0              1      1193       5  1.191425  0.680967   4.188679   \n",
       "1              1       661       3 -1.745576  0.680967   4.188679   \n",
       "2              1       914       3 -1.745576  0.680967   4.188679   \n",
       "3              1      3408       4 -0.277076  0.680967   4.188679   \n",
       "4              1      2355       5  1.191425  0.680967   4.188679   \n",
       "...          ...       ...     ...       ...       ...        ...   \n",
       "1000204     6040      1091       1 -2.185022  1.179719   3.577713   \n",
       "1000205     6040      1094       5  1.205615  1.179719   3.577713   \n",
       "1000206     6040       562       5  1.205615  1.179719   3.577713   \n",
       "1000207     6040      1096       4  0.357956  1.179719   3.577713   \n",
       "1000208     6040      1097       4  0.357956  1.179719   3.577713   \n",
       "\n",
       "         z_rating_noise  rating_noise  treatment     sigma     noise  \n",
       "0              1.105785      4.941682          1  0.312498 -0.085640  \n",
       "1             -1.853954      2.926199          1  0.312498 -0.108377  \n",
       "2             -1.715603      3.020411          1  0.312498  0.029973  \n",
       "3             -0.852857      3.607912          1  0.312498 -0.575781  \n",
       "4              1.187340      4.997218          1  0.312498 -0.004085  \n",
       "...                 ...           ...        ...       ...       ...  \n",
       "1000204       -1.711541      1.558575          0  0.897242  0.473481  \n",
       "1000205        0.377127      4.022616          0  0.897242 -0.828488  \n",
       "1000206        0.564847      4.244073          0  0.897242 -0.640769  \n",
       "1000207        0.330450      3.967551          0  0.897242 -0.027506  \n",
       "1000208       -0.908921      2.505442          0  0.897242 -1.266876  \n",
       "\n",
       "[1000209 rows x 11 columns]"
      ]
     },
     "execution_count": 25,
     "metadata": {},
     "output_type": "execute_result"
    }
   ],
   "source": [
    "df_ratings"
   ]
  },
  {
   "cell_type": "code",
   "execution_count": 24,
   "metadata": {},
   "outputs": [],
   "source": [
    "df_ratings[cols_export].to_csv('../data/ml-1m-obfuscation/ratings_obf2_random_alpha.csv', index=False)"
   ]
  },
  {
   "cell_type": "markdown",
   "metadata": {},
   "source": [
    "# Fixed alpha, with masking"
   ]
  },
  {
   "cell_type": "code",
   "execution_count": 9,
   "metadata": {},
   "outputs": [],
   "source": [
    "# group by user id\n",
    "grouped = df_ratings.groupby('user_id')"
   ]
  },
  {
   "cell_type": "code",
   "execution_count": 10,
   "metadata": {},
   "outputs": [],
   "source": [
    "# fixed-alpha\n",
    "alpha = np.sqrt(3) * sigma_max\n",
    "# choose a beta max based on its user-wise distribution\n",
    "beta_max = grouped.size().max()/n_items\n",
    "beta = np.random.uniform(0, beta_max)"
   ]
  },
  {
   "cell_type": "code",
   "execution_count": 40,
   "metadata": {
    "jupyter": {
     "source_hidden": true
    },
    "tags": []
   },
   "outputs": [],
   "source": [
    "# initialise user-wise data frame for each unrated movie: conserve the beta, sigma, treatment\n",
    "df_users_unrated = pd.DataFrame()\n",
    "df_users_unrated['n_rated'] = grouped.size()\n",
    "df_users_unrated['n_rated'].fillna(0)\n",
    "# for each user, radomly choose a random number of unrated movie ids\n",
    "all_items = set(df_ratings['movie_id'].unique())\n",
    "df_users_unrated['unselected_set'] = grouped['movie_id'].agg(list).apply(\n",
    "    lambda s: list(all_items.difference(set(s))))"
   ]
  },
  {
   "cell_type": "code",
   "execution_count": 49,
   "metadata": {},
   "outputs": [],
   "source": [
    "# for each user, radomly choose a random number of unrated movie ids\n",
    "all_items = set(range(n_items))\n",
    "# user-wise set of unselected movie-ids\n",
    "df_users_unrated = grouped['movie_id'].agg(list).apply(lambda s: list(all_items.difference(set(s)))).reset_index()\n",
    "df_users_unrated.columns = ['user_id', 'unselected_set']\n",
    "# pick a random subset of these unselected movies\n",
    "df_users_unrated['unselected_subset'] = df_users_unrated.apply(lambda x: np.random.choice(x['unselected_set'], int(beta*(n_items-len(x['unselected_set']))), replace=False), axis=1)\n",
    "df_users_unrated.drop(columns=['unselected_set'], inplace=True)\n",
    "df_users_unrated.rename(columns={'unselected_subset':'movie_id'}, inplace=True)\n",
    "# explode the table for each user_id and unrated movie_id => a data frame of users and a random selection of their unrated movies\n",
    "df_users_unrated = df_users_unrated.explode('movie_id', ignore_index=True)"
   ]
  },
  {
   "cell_type": "code",
   "execution_count": 51,
   "metadata": {},
   "outputs": [],
   "source": [
    "# Generate random ratings for the unrated items\n",
    "ratings_distribution = list((df_ratings['rating'].value_counts()/len(df_ratings)).sort_index())\n",
    "df_users_unrated['rating'] = np.random.choice(list(range(1,6)), len(df_users_unrated), ratings_distribution)\n",
    "# normalise ratings\n",
    "df_users_unrated['z_rating'] = df_users_unrated.groupby('user_id')['rating'].transform(lambda x: (x - x.mean())/x.std())"
   ]
  },
  {
   "cell_type": "code",
   "execution_count": 40,
   "metadata": {},
   "outputs": [],
   "source": [
    "# add the noise to the rated items\n",
    "df_ratings['z_rating_noise'] = df_ratings['z_rating'] + np.random.uniform(-alpha, alpha, df_ratings.shape[0])\n",
    "# add the noise to the synthetically rated items\n",
    "df_users_unrated['z_rating_noise'] = df_users_unrated['z_rating'] + np.random.uniform(-alpha, alpha, df_users_unrated.shape[0])"
   ]
  },
  {
   "cell_type": "code",
   "execution_count": 56,
   "metadata": {},
   "outputs": [],
   "source": [
    "# De-normalise rated items with noise\n",
    "df_ratings['rating_noise'] = df_ratings['z_rating_noise'] * df_ratings['user_std'] + df_ratings['user_mean']"
   ]
  },
  {
   "cell_type": "code",
   "execution_count": 69,
   "metadata": {},
   "outputs": [],
   "source": [
    "# De-normalise syntehtially rated items with noise - we need the mean and std from the rated items\n",
    "# user-wise ratings descriptive stats (mean, std)\n",
    "df_user_ratings_desc_stats = df_ratings.groupby('user_id')[['user_mean', 'user_std']].agg(min).reset_index()\n",
    "df_users_unrated = df_users_unrated.merge(df_user_ratings_desc_stats, on='user_id', how='left')\n",
    "df_users_unrated['rating_noise'] = df_users_unrated['z_rating_noise'] * df_users_unrated['user_std'] + df_users_unrated['user_mean']"
   ]
  },
  {
   "cell_type": "code",
   "execution_count": null,
   "metadata": {},
   "outputs": [],
   "source": [
    "# add the original/synthetic flag\n",
    "df_ratings['is_original'] = True\n",
    "df_users_unrated['is_original'] = False\n",
    "cols_export.append('is_original')"
   ]
  },
  {
   "cell_type": "code",
   "execution_count": 89,
   "metadata": {},
   "outputs": [],
   "source": [
    "# concatenate the original and synthetic data with noise\n",
    "df_ratings_agg = pd.concat([df_ratings[cols_export], df_users_unrated[cols_export]])"
   ]
  },
  {
   "cell_type": "code",
   "execution_count": 91,
   "metadata": {},
   "outputs": [],
   "source": [
    "df_ratings_agg[cols_export].to_csv('../data/ml-1m-obfuscation/ratings_obf3_fixed_alpha_with_mask.csv', index=False)"
   ]
  },
  {
   "cell_type": "markdown",
   "metadata": {},
   "source": [
    "# Random alpha, with masking"
   ]
  },
  {
   "cell_type": "code",
   "execution_count": 13,
   "metadata": {},
   "outputs": [],
   "source": [
    "# group by user id\n",
    "grouped = df_ratings.groupby('user_id')"
   ]
  },
  {
   "cell_type": "code",
   "execution_count": 14,
   "metadata": {},
   "outputs": [],
   "source": [
    "# randomly choose a randomisation treatment for each user: coin flip between Gaussian and uniform\n",
    "df_ratings['treatment'] = grouped['user_id'].transform(lambda x: np.random.binomial(1, 0.5))\n",
    "# randomly choose a sigma for each user\n",
    "df_ratings['sigma'] = grouped['user_id'].transform(lambda x: np.random.uniform(0, sigma_max))"
   ]
  },
  {
   "cell_type": "code",
   "execution_count": 15,
   "metadata": {},
   "outputs": [],
   "source": [
    "# choose a beta max based on its user-wise distribution\n",
    "beta_max = grouped.size().max()/n_items\n",
    "# generate a beta for each user\n",
    "df_ratings['beta'] = grouped['user_id'].transform(lambda x: np.random.uniform(0, beta_max))"
   ]
  },
  {
   "cell_type": "code",
   "execution_count": 16,
   "metadata": {},
   "outputs": [],
   "source": [
    "# initialise user-wise data frame for each unrated movie: conserve the beta, sigma, treatment\n",
    "df_users_unrated = grouped[['beta', 'sigma', 'treatment']].agg('min').reset_index()\n",
    "# for each user, radomly choose a random number of unrated movie ids\n",
    "all_items = set(range(n_items))\n",
    "df_users_unrated['unselected_set'] = grouped['movie_id'].agg(list).apply(lambda s: list(all_items.difference(set(s)))).reset_index()['movie_id']\n",
    "df_users_unrated['unselected_subset'] = df_users_unrated.apply(lambda x: np.random.choice(x['unselected_set'], int(x['beta']*(n_items-len(x['unselected_set']))), replace=False), axis=1)\n",
    "df_users_unrated.drop(columns=['unselected_set'], inplace=True)\n",
    "df_users_unrated.rename(columns={'unselected_subset':'movie_id'}, inplace=True)\n",
    "# explode the table for each user_id and unrated movie_id\n",
    "df_users_unrated = df_users_unrated.explode('movie_id', ignore_index=True)"
   ]
  },
  {
   "cell_type": "code",
   "execution_count": 18,
   "metadata": {},
   "outputs": [],
   "source": [
    "# generate random ratings (1-5 stars) for the unrated movies, using the distribution of the rated ones\n",
    "ratings_distribution = list((df_ratings['rating'].value_counts()/len(df_ratings)).sort_index())\n",
    "df_users_unrated['rating'] = np.random.choice(list(range(1,6)), len(df_users_unrated), ratings_distribution)\n",
    "# normalise ratings\n",
    "df_users_unrated['z_rating'] = df_users_unrated.groupby('user_id')['rating'].transform(lambda x: (x - x.mean())/x.std())"
   ]
  },
  {
   "cell_type": "code",
   "execution_count": 19,
   "metadata": {},
   "outputs": [],
   "source": [
    "# generate noise for the samples that receive the uniform random treatment\n",
    "df_users_unrated.loc[df_users_unrated['treatment'] == 0, 'noise'] = np.random.uniform(-np.sqrt(3*df_users_unrated[df_users_unrated['treatment'] == 0]['sigma']), np.sqrt(3*df_users_unrated[df_users_unrated['treatment'] == 0]['sigma']))"
   ]
  },
  {
   "cell_type": "code",
   "execution_count": 20,
   "metadata": {},
   "outputs": [],
   "source": [
    "# generate noise for the samples that receive the Gaussian random treatment\n",
    "df_users_unrated.loc[df_users_unrated['treatment'] == 1, 'noise'] = np.random.normal(0, df_users_unrated[df_users_unrated['treatment'] == 1]['sigma'])"
   ]
  },
  {
   "cell_type": "code",
   "execution_count": 21,
   "metadata": {},
   "outputs": [],
   "source": [
    "# add the noise\n",
    "df_users_unrated['z_rating_noise'] = df_users_unrated['z_rating'] + df_users_unrated['noise']"
   ]
  },
  {
   "cell_type": "code",
   "execution_count": 45,
   "metadata": {},
   "outputs": [
    {
     "data": {
      "text/plain": [
       "6040"
      ]
     },
     "execution_count": 45,
     "metadata": {},
     "output_type": "execute_result"
    }
   ],
   "source": [
    "# check that it generates one alpha per user (i.e. groupwise)\n",
    "df_users_unrated['sigma'].nunique()"
   ]
  },
  {
   "cell_type": "code",
   "execution_count": 46,
   "metadata": {},
   "outputs": [
    {
     "data": {
      "text/plain": [
       "303202"
      ]
     },
     "execution_count": 46,
     "metadata": {},
     "output_type": "execute_result"
    }
   ],
   "source": [
    "# check that the z_rating_noise are unique (or almost unique, in any case not per user)\n",
    "df_users_unrated['z_rating_noise'].nunique()"
   ]
  },
  {
   "cell_type": "code",
   "execution_count": 47,
   "metadata": {},
   "outputs": [
    {
     "data": {
      "text/plain": [
       "count    5699.000000\n",
       "mean       -0.000669\n",
       "std         0.174612\n",
       "min        -1.166566\n",
       "25%        -0.061302\n",
       "50%        -0.000273\n",
       "75%         0.059241\n",
       "max         1.347243\n",
       "Name: z_rating_noise, dtype: float64"
      ]
     },
     "execution_count": 47,
     "metadata": {},
     "output_type": "execute_result"
    }
   ],
   "source": [
    "# check that the mean of the scrambled distribution for each user stays close to 0\n",
    "df_users_unrated.groupby('user_id')['z_rating_noise'].mean().describe()"
   ]
  },
  {
   "cell_type": "code",
   "execution_count": 48,
   "metadata": {},
   "outputs": [
    {
     "data": {
      "text/plain": [
       "6040"
      ]
     },
     "execution_count": 48,
     "metadata": {},
     "output_type": "execute_result"
    }
   ],
   "source": [
    "len(df_users_unrated.groupby('user_id'))"
   ]
  },
  {
   "cell_type": "markdown",
   "metadata": {},
   "source": [
    "At the end of this approach, we obtain 2 datasets: one with the obfuscated inital ratings and one with the synthetic obfuscated ratings."
   ]
  },
  {
   "cell_type": "code",
   "execution_count": 28,
   "metadata": {},
   "outputs": [],
   "source": [
    "# De-normalise rated items with noise\n",
    "df_ratings['rating_noise'] = df_ratings['z_rating_noise'] * df_ratings['user_std'] + df_ratings['user_mean']"
   ]
  },
  {
   "cell_type": "code",
   "execution_count": 29,
   "metadata": {},
   "outputs": [],
   "source": [
    "# De-normalise syntehtially rated items with noise - we need the mean and std from the rated items\n",
    "# user-wise ratings descriptive stats (mean, std)\n",
    "df_user_ratings_desc_stats = df_ratings.groupby('user_id')[['user_mean', 'user_std']].agg(min).reset_index()\n",
    "df_users_unrated = df_users_unrated.merge(df_user_ratings_desc_stats, on='user_id', how='left')\n",
    "df_users_unrated['rating_noise'] = df_users_unrated['z_rating_noise'] * df_users_unrated['user_std'] + df_users_unrated['user_mean']"
   ]
  },
  {
   "cell_type": "code",
   "execution_count": 30,
   "metadata": {},
   "outputs": [],
   "source": [
    "# add the original/synthetic flag\n",
    "df_ratings['is_original'] = True\n",
    "df_users_unrated['is_original'] = False\n",
    "cols_export.append('is_original')"
   ]
  },
  {
   "cell_type": "code",
   "execution_count": 33,
   "metadata": {},
   "outputs": [],
   "source": [
    "# concatenate the original and synthetic data with noise\n",
    "df_ratings_agg = pd.concat([df_ratings[cols_export], df_users_unrated[cols_export]])"
   ]
  },
  {
   "cell_type": "code",
   "execution_count": 35,
   "metadata": {},
   "outputs": [],
   "source": [
    "df_ratings_agg[cols_export].to_csv('../data/ml-1m-obfuscation/ratings_obf4_random_alpha_with_mask.csv', index=False)"
   ]
  },
  {
   "cell_type": "code",
   "execution_count": null,
   "metadata": {},
   "outputs": [],
   "source": []
  }
 ],
 "metadata": {
  "kernelspec": {
   "display_name": "Python 3",
   "language": "python",
   "name": "python3"
  },
  "language_info": {
   "codemirror_mode": {
    "name": "ipython",
    "version": 3
   },
   "file_extension": ".py",
   "mimetype": "text/x-python",
   "name": "python",
   "nbconvert_exporter": "python",
   "pygments_lexer": "ipython3",
   "version": "3.9.0"
  },
  "vscode": {
   "interpreter": {
    "hash": "1a1af0ee75eeea9e2e1ee996c87e7a2b11a0bebd85af04bb136d915cefc0abce"
   }
  }
 },
 "nbformat": 4,
 "nbformat_minor": 4
}
